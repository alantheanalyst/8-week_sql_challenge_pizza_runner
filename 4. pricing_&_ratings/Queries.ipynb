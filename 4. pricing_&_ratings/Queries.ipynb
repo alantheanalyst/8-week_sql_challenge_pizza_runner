{
    "metadata": {
        "kernelspec": {
            "name": "SQL",
            "display_name": "SQL",
            "language": "sql"
        },
        "language_info": {
            "name": "sql",
            "version": ""
        }
    },
    "nbformat_minor": 2,
    "nbformat": 4,
    "cells": [
        {
            "cell_type": "markdown",
            "source": [
                "**Total revenue if meatlovers are $12 and Vegetarians are $10**"
            ],
            "metadata": {
                "azdata_cell_guid": "dc8d0ffa-cdd4-46e5-8317-1efb4a8fe95e"
            },
            "attachments": {}
        },
        {
            "cell_type": "code",
            "source": [
                "SELECT\r\n",
                "SUM(CASE\r\n",
                "\tWHEN pizza_id = 1 THEN 12\r\n",
                "\tELSE 10\r\n",
                "END) total_price\r\n",
                "FROM customer_orders c JOIN runner_orders r\r\n",
                "ON c.order_id = r.order_id\r\n",
                "WHERE cancellation IS NULL"
            ],
            "metadata": {
                "azdata_cell_guid": "fdb4c310-22d4-4740-be36-c434c0ba107b",
                "language": "sql",
                "tags": []
            },
            "outputs": [
                {
                    "output_type": "display_data",
                    "data": {
                        "text/html": "(1 row affected)"
                    },
                    "metadata": {}
                },
                {
                    "output_type": "display_data",
                    "data": {
                        "text/html": "Total execution time: 00:00:00.116"
                    },
                    "metadata": {}
                },
                {
                    "output_type": "execute_result",
                    "execution_count": 1,
                    "data": {
                        "application/vnd.dataresource+json": {
                            "schema": {
                                "fields": [
                                    {
                                        "name": "total_price"
                                    }
                                ]
                            },
                            "data": [
                                {
                                    "total_price": "138"
                                }
                            ]
                        },
                        "text/html": "<table><tr><th>total_price</th></tr><tr><td>138</td></tr></table>"
                    },
                    "metadata": {}
                }
            ],
            "execution_count": 1
        },
        {
            "cell_type": "markdown",
            "source": [
                "**Total revenue if toppings where $1**"
            ],
            "metadata": {
                "language": "sql",
                "azdata_cell_guid": "9f4e55d5-bbf7-4c64-acc3-1ea7a420b4fd"
            },
            "attachments": {}
        },
        {
            "cell_type": "code",
            "source": [
                "SELECT\r\n",
                "SUM(\r\n",
                "CASE\r\n",
                "\tWHEN pizza_id = 1 AND extras is null THEN 12\r\n",
                "\tWHEN pizza_id = 2 AND extras is null THEN 10\r\n",
                "\tWHEN extras = '1, 4' THEN 14\r\n",
                "\tWHEN pizza_id = 1 AND extras is not null THEN 13\r\n",
                "\tWHEN pizza_id = 2 AND extras is not null THEN 11\r\n",
                "END) total_price\r\n",
                "FROM customer_orders c JOIN runner_orders r\r\n",
                "ON c.order_id = r.order_id\r\n",
                "WHERE cancellation IS NULL"
            ],
            "metadata": {
                "language": "sql",
                "azdata_cell_guid": "47395bcf-327b-4260-87ad-5a64cc190912"
            },
            "outputs": [
                {
                    "output_type": "display_data",
                    "data": {
                        "text/html": "(1 row affected)"
                    },
                    "metadata": {}
                },
                {
                    "output_type": "display_data",
                    "data": {
                        "text/html": "Total execution time: 00:00:00.032"
                    },
                    "metadata": {}
                },
                {
                    "output_type": "execute_result",
                    "execution_count": 2,
                    "data": {
                        "application/vnd.dataresource+json": {
                            "schema": {
                                "fields": [
                                    {
                                        "name": "total_price"
                                    }
                                ]
                            },
                            "data": [
                                {
                                    "total_price": "142"
                                }
                            ]
                        },
                        "text/html": "<table><tr><th>total_price</th></tr><tr><td>142</td></tr></table>"
                    },
                    "metadata": {}
                }
            ],
            "execution_count": 2
        },
        {
            "cell_type": "markdown",
            "source": [
                "**Total revenue if runner's where payed $0.30 per kilometer travelled**"
            ],
            "metadata": {
                "language": "sql",
                "azdata_cell_guid": "746716cb-f76c-40d9-9e10-23114b32e0cf"
            },
            "attachments": {}
        },
        {
            "cell_type": "code",
            "source": [
                "WITH adjusted_pay_cte AS (\r\n",
                "SELECT round(SUM(distance * .30), 2) runner_paycheck,\r\n",
                "SUM(\r\n",
                "CASE\r\n",
                "\tWHEN pizza_id = 1 THEN 12\r\n",
                "\tELSE 10\r\n",
                "END) revenue\r\n",
                "FROM runner_orders r JOIN customer_orders c\r\n",
                "ON r.order_id = c.order_id\r\n",
                "WHERE cancellation IS NULL\r\n",
                ")\r\n",
                "SELECT revenue - runner_paycheck total_pay\r\n",
                "FROM adjusted_pay_cte"
            ],
            "metadata": {
                "language": "sql",
                "azdata_cell_guid": "4a41e08d-a7b0-409a-a0ad-333865acdf06"
            },
            "outputs": [
                {
                    "output_type": "display_data",
                    "data": {
                        "text/html": "(1 row affected)"
                    },
                    "metadata": {}
                },
                {
                    "output_type": "display_data",
                    "data": {
                        "text/html": "Total execution time: 00:00:00.050"
                    },
                    "metadata": {}
                },
                {
                    "output_type": "execute_result",
                    "metadata": {},
                    "execution_count": 3,
                    "data": {
                        "application/vnd.dataresource+json": {
                            "schema": {
                                "fields": [
                                    {
                                        "name": "total_pay"
                                    }
                                ]
                            },
                            "data": [
                                {
                                    "total_pay": "73.38"
                                }
                            ]
                        },
                        "text/html": [
                            "<table>",
                            "<tr><th>total_pay</th></tr>",
                            "<tr><td>73.38</td></tr>",
                            "</table>"
                        ]
                    }
                }
            ],
            "execution_count": 3
        },
        {
            "cell_type": "markdown",
            "source": [
                "**Supreme Pizza with all Toppings**"
            ],
            "metadata": {
                "language": "sql",
                "azdata_cell_guid": "1bcc1067-732a-490e-9829-5185e8a1e09c"
            },
            "attachments": {}
        },
        {
            "cell_type": "code",
            "source": [
                "begin transaction \r\n",
                "insert into pizza_recipes values \r\n",
                "(3, '1, 2, 3, 4, 5, 6, 7, 8. 9. 10, 11, 12')\r\n",
                "commit"
            ],
            "metadata": {
                "language": "sql",
                "azdata_cell_guid": "706f3f2e-4947-4565-87e2-e802fc242e5d",
                "tags": []
            },
            "outputs": [],
            "execution_count": null
        },
        {
            "cell_type": "code",
            "source": [
                "select *\r\n",
                "from pizza_recipes"
            ],
            "metadata": {
                "language": "sql",
                "azdata_cell_guid": "1f5afda0-49b3-4d95-8fb5-a7bf6bcc1644"
            },
            "outputs": [
                {
                    "output_type": "display_data",
                    "data": {
                        "text/html": "(3 rows affected)"
                    },
                    "metadata": {}
                },
                {
                    "output_type": "display_data",
                    "data": {
                        "text/html": "Total execution time: 00:00:00.035"
                    },
                    "metadata": {}
                },
                {
                    "output_type": "execute_result",
                    "execution_count": 4,
                    "data": {
                        "application/vnd.dataresource+json": {
                            "schema": {
                                "fields": [
                                    {
                                        "name": "pizza_id"
                                    },
                                    {
                                        "name": "toppings"
                                    }
                                ]
                            },
                            "data": [
                                {
                                    "pizza_id": "1",
                                    "toppings": "1, 2, 3, 4, 5, 6, 8, 10"
                                },
                                {
                                    "pizza_id": "2",
                                    "toppings": "4, 6, 7, 9, 11, 12"
                                },
                                {
                                    "pizza_id": "3",
                                    "toppings": "1, 2, 3, 4, 5, 6, 7, 8. 9. 10, 11, 12"
                                }
                            ]
                        },
                        "text/html": "<table><tr><th>pizza_id</th><th>toppings</th></tr><tr><td>1</td><td>1, 2, 3, 4, 5, 6, 8, 10</td></tr><tr><td>2</td><td>4, 6, 7, 9, 11, 12</td></tr><tr><td>3</td><td>1, 2, 3, 4, 5, 6, 7, 8. 9. 10, 11, 12</td></tr></table>"
                    },
                    "metadata": {}
                }
            ],
            "execution_count": 4
        }
    ]
}
