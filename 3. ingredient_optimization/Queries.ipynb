{
    "metadata": {
        "kernelspec": {
            "name": "SQL",
            "display_name": "SQL",
            "language": "sql"
        },
        "language_info": {
            "name": "sql",
            "version": ""
        }
    },
    "nbformat_minor": 2,
    "nbformat": 4,
    "cells": [
        {
            "cell_type": "markdown",
            "source": [
                "**Standard Ingredients per Pizza**"
            ],
            "metadata": {
                "azdata_cell_guid": "f677a1fb-54fc-4ccc-b7ff-e3150e42e79b"
            },
            "attachments": {}
        },
        {
            "cell_type": "code",
            "source": [
                "SELECT order_id, \r\n",
                "c.pizza_id, \r\n",
                "pizza_name, \r\n",
                "exclusions, \r\n",
                "extras, \r\n",
                "toppings,\r\n",
                "CASE\r\n",
                "\tWHEN exclusions IS NULL AND extras IS NULL AND pizza_name = 'Meatlovers' THEN 'Bacon, BBQ Sauce, Beef, Cheese, Chicken, Mushrooms, Pepperoni, Salami'\r\n",
                "\tWHEN order_id in (4, 9) THEN 'Bacon, BBQ Sauce, Beef, Chicken, Mushrooms, Pepperoni, Salami'\r\n",
                "\tWHEN order_id = 10 THEN 'Bacon, Beef, Cheese, Chicken, Pepperoni, Salami'\r\n",
                "\tELSE 'Cheese, Mushrooms, Onions, Peppers, Tomatoes, Tomato Sauce'\r\n",
                "END Topping_Names\r\n",
                "FROM pizza_names n JOIN customer_orders c\r\n",
                "ON n.pizza_id = c.pizza_id \r\n",
                "JOIN pizza_recipes r\r\n",
                "ON c.pizza_id = r.pizza_id"
            ],
            "metadata": {
                "azdata_cell_guid": "8c145bcd-8c2a-499e-b79f-af112e6704c0",
                "language": "sql"
            },
            "outputs": [
                {
                    "output_type": "display_data",
                    "data": {
                        "text/html": "(14 rows affected)"
                    },
                    "metadata": {}
                },
                {
                    "output_type": "display_data",
                    "data": {
                        "text/html": "Total execution time: 00:00:06.963"
                    },
                    "metadata": {}
                },
                {
                    "output_type": "execute_result",
                    "metadata": {},
                    "execution_count": 2,
                    "data": {
                        "application/vnd.dataresource+json": {
                            "schema": {
                                "fields": [
                                    {
                                        "name": "order_id"
                                    },
                                    {
                                        "name": "pizza_id"
                                    },
                                    {
                                        "name": "pizza_name"
                                    },
                                    {
                                        "name": "exclusions"
                                    },
                                    {
                                        "name": "extras"
                                    },
                                    {
                                        "name": "toppings"
                                    },
                                    {
                                        "name": "Topping_Names"
                                    }
                                ]
                            },
                            "data": [
                                {
                                    "order_id": "1",
                                    "pizza_id": "1",
                                    "pizza_name": "Meatlovers",
                                    "exclusions": "NULL",
                                    "extras": "NULL",
                                    "toppings": "1, 2, 3, 4, 5, 6, 8, 10",
                                    "Topping_Names": "Bacon, BBQ Sauce, Beef, Cheese, Chicken, Mushrooms, Pepperoni, Salami"
                                },
                                {
                                    "order_id": "2",
                                    "pizza_id": "1",
                                    "pizza_name": "Meatlovers",
                                    "exclusions": "NULL",
                                    "extras": "NULL",
                                    "toppings": "1, 2, 3, 4, 5, 6, 8, 10",
                                    "Topping_Names": "Bacon, BBQ Sauce, Beef, Cheese, Chicken, Mushrooms, Pepperoni, Salami"
                                },
                                {
                                    "order_id": "3",
                                    "pizza_id": "1",
                                    "pizza_name": "Meatlovers",
                                    "exclusions": "NULL",
                                    "extras": "NULL",
                                    "toppings": "1, 2, 3, 4, 5, 6, 8, 10",
                                    "Topping_Names": "Bacon, BBQ Sauce, Beef, Cheese, Chicken, Mushrooms, Pepperoni, Salami"
                                },
                                {
                                    "order_id": "3",
                                    "pizza_id": "2",
                                    "pizza_name": "Vegetarian",
                                    "exclusions": "NULL",
                                    "extras": "NULL",
                                    "toppings": "4, 6, 7, 9, 11, 12",
                                    "Topping_Names": "Cheese, Mushrooms, Onions, Peppers, Tomatoes, Tomato Sauce"
                                },
                                {
                                    "order_id": "4",
                                    "pizza_id": "1",
                                    "pizza_name": "Meatlovers",
                                    "exclusions": "4",
                                    "extras": "NULL",
                                    "toppings": "1, 2, 3, 4, 5, 6, 8, 10",
                                    "Topping_Names": "Bacon, BBQ Sauce, Beef, Chicken, Mushrooms, Pepperoni, Salami"
                                },
                                {
                                    "order_id": "4",
                                    "pizza_id": "1",
                                    "pizza_name": "Meatlovers",
                                    "exclusions": "4",
                                    "extras": "NULL",
                                    "toppings": "1, 2, 3, 4, 5, 6, 8, 10",
                                    "Topping_Names": "Bacon, BBQ Sauce, Beef, Chicken, Mushrooms, Pepperoni, Salami"
                                },
                                {
                                    "order_id": "4",
                                    "pizza_id": "2",
                                    "pizza_name": "Vegetarian",
                                    "exclusions": "4",
                                    "extras": "NULL",
                                    "toppings": "4, 6, 7, 9, 11, 12",
                                    "Topping_Names": "Bacon, BBQ Sauce, Beef, Chicken, Mushrooms, Pepperoni, Salami"
                                },
                                {
                                    "order_id": "5",
                                    "pizza_id": "1",
                                    "pizza_name": "Meatlovers",
                                    "exclusions": "NULL",
                                    "extras": "1",
                                    "toppings": "1, 2, 3, 4, 5, 6, 8, 10",
                                    "Topping_Names": "Cheese, Mushrooms, Onions, Peppers, Tomatoes, Tomato Sauce"
                                },
                                {
                                    "order_id": "6",
                                    "pizza_id": "2",
                                    "pizza_name": "Vegetarian",
                                    "exclusions": "NULL",
                                    "extras": "NULL",
                                    "toppings": "4, 6, 7, 9, 11, 12",
                                    "Topping_Names": "Cheese, Mushrooms, Onions, Peppers, Tomatoes, Tomato Sauce"
                                },
                                {
                                    "order_id": "7",
                                    "pizza_id": "2",
                                    "pizza_name": "Vegetarian",
                                    "exclusions": "NULL",
                                    "extras": "1",
                                    "toppings": "4, 6, 7, 9, 11, 12",
                                    "Topping_Names": "Cheese, Mushrooms, Onions, Peppers, Tomatoes, Tomato Sauce"
                                },
                                {
                                    "order_id": "8",
                                    "pizza_id": "1",
                                    "pizza_name": "Meatlovers",
                                    "exclusions": "NULL",
                                    "extras": "NULL",
                                    "toppings": "1, 2, 3, 4, 5, 6, 8, 10",
                                    "Topping_Names": "Bacon, BBQ Sauce, Beef, Cheese, Chicken, Mushrooms, Pepperoni, Salami"
                                },
                                {
                                    "order_id": "9",
                                    "pizza_id": "1",
                                    "pizza_name": "Meatlovers",
                                    "exclusions": "4",
                                    "extras": "1, 5",
                                    "toppings": "1, 2, 3, 4, 5, 6, 8, 10",
                                    "Topping_Names": "Bacon, BBQ Sauce, Beef, Chicken, Mushrooms, Pepperoni, Salami"
                                },
                                {
                                    "order_id": "10",
                                    "pizza_id": "1",
                                    "pizza_name": "Meatlovers",
                                    "exclusions": "NULL",
                                    "extras": "NULL",
                                    "toppings": "1, 2, 3, 4, 5, 6, 8, 10",
                                    "Topping_Names": "Bacon, BBQ Sauce, Beef, Cheese, Chicken, Mushrooms, Pepperoni, Salami"
                                },
                                {
                                    "order_id": "10",
                                    "pizza_id": "1",
                                    "pizza_name": "Meatlovers",
                                    "exclusions": "2, 6",
                                    "extras": "1, 4",
                                    "toppings": "1, 2, 3, 4, 5, 6, 8, 10",
                                    "Topping_Names": "Bacon, Beef, Cheese, Chicken, Pepperoni, Salami"
                                }
                            ]
                        },
                        "text/html": [
                            "<table>",
                            "<tr><th>order_id</th><th>pizza_id</th><th>pizza_name</th><th>exclusions</th><th>extras</th><th>toppings</th><th>Topping_Names</th></tr>",
                            "<tr><td>1</td><td>1</td><td>Meatlovers</td><td>NULL</td><td>NULL</td><td>1, 2, 3, 4, 5, 6, 8, 10</td><td>Bacon, BBQ Sauce, Beef, Cheese, Chicken, Mushrooms, Pepperoni, Salami</td></tr>",
                            "<tr><td>2</td><td>1</td><td>Meatlovers</td><td>NULL</td><td>NULL</td><td>1, 2, 3, 4, 5, 6, 8, 10</td><td>Bacon, BBQ Sauce, Beef, Cheese, Chicken, Mushrooms, Pepperoni, Salami</td></tr>",
                            "<tr><td>3</td><td>1</td><td>Meatlovers</td><td>NULL</td><td>NULL</td><td>1, 2, 3, 4, 5, 6, 8, 10</td><td>Bacon, BBQ Sauce, Beef, Cheese, Chicken, Mushrooms, Pepperoni, Salami</td></tr>",
                            "<tr><td>3</td><td>2</td><td>Vegetarian</td><td>NULL</td><td>NULL</td><td>4, 6, 7, 9, 11, 12</td><td>Cheese, Mushrooms, Onions, Peppers, Tomatoes, Tomato Sauce</td></tr>",
                            "<tr><td>4</td><td>1</td><td>Meatlovers</td><td>4</td><td>NULL</td><td>1, 2, 3, 4, 5, 6, 8, 10</td><td>Bacon, BBQ Sauce, Beef, Chicken, Mushrooms, Pepperoni, Salami</td></tr>",
                            "<tr><td>4</td><td>1</td><td>Meatlovers</td><td>4</td><td>NULL</td><td>1, 2, 3, 4, 5, 6, 8, 10</td><td>Bacon, BBQ Sauce, Beef, Chicken, Mushrooms, Pepperoni, Salami</td></tr>",
                            "<tr><td>4</td><td>2</td><td>Vegetarian</td><td>4</td><td>NULL</td><td>4, 6, 7, 9, 11, 12</td><td>Bacon, BBQ Sauce, Beef, Chicken, Mushrooms, Pepperoni, Salami</td></tr>",
                            "<tr><td>5</td><td>1</td><td>Meatlovers</td><td>NULL</td><td>1</td><td>1, 2, 3, 4, 5, 6, 8, 10</td><td>Cheese, Mushrooms, Onions, Peppers, Tomatoes, Tomato Sauce</td></tr>",
                            "<tr><td>6</td><td>2</td><td>Vegetarian</td><td>NULL</td><td>NULL</td><td>4, 6, 7, 9, 11, 12</td><td>Cheese, Mushrooms, Onions, Peppers, Tomatoes, Tomato Sauce</td></tr>",
                            "<tr><td>7</td><td>2</td><td>Vegetarian</td><td>NULL</td><td>1</td><td>4, 6, 7, 9, 11, 12</td><td>Cheese, Mushrooms, Onions, Peppers, Tomatoes, Tomato Sauce</td></tr>",
                            "<tr><td>8</td><td>1</td><td>Meatlovers</td><td>NULL</td><td>NULL</td><td>1, 2, 3, 4, 5, 6, 8, 10</td><td>Bacon, BBQ Sauce, Beef, Cheese, Chicken, Mushrooms, Pepperoni, Salami</td></tr>",
                            "<tr><td>9</td><td>1</td><td>Meatlovers</td><td>4</td><td>1, 5</td><td>1, 2, 3, 4, 5, 6, 8, 10</td><td>Bacon, BBQ Sauce, Beef, Chicken, Mushrooms, Pepperoni, Salami</td></tr>",
                            "<tr><td>10</td><td>1</td><td>Meatlovers</td><td>NULL</td><td>NULL</td><td>1, 2, 3, 4, 5, 6, 8, 10</td><td>Bacon, BBQ Sauce, Beef, Cheese, Chicken, Mushrooms, Pepperoni, Salami</td></tr>",
                            "<tr><td>10</td><td>1</td><td>Meatlovers</td><td>2, 6</td><td>1, 4</td><td>1, 2, 3, 4, 5, 6, 8, 10</td><td>Bacon, Beef, Cheese, Chicken, Pepperoni, Salami</td></tr>",
                            "</table>"
                        ]
                    }
                }
            ],
            "execution_count": 2
        },
        {
            "cell_type": "markdown",
            "source": [
                "**Most Excluded and Added Toppings**"
            ],
            "metadata": {
                "azdata_cell_guid": "8eb0c25c-9626-42fc-8003-38d3c6d6f485"
            },
            "attachments": {}
        },
        {
            "cell_type": "code",
            "source": [
                "with cte_1 as (\r\n",
                "select \r\n",
                "order_id,\r\n",
                "cast(value as int) as exclusions\r\n",
                "from customer_orders\r\n",
                "cross apply string_split(exclusions, ',')\r\n",
                "), cte_2 as (\r\n",
                "select \r\n",
                "cast(topping_name as varchar (20)) as topping_name,\r\n",
                "count(*) as topping_count\r\n",
                "from cte_1 a join pizza_toppings b\r\n",
                "on a.exclusions = b.topping_id\r\n",
                "group by cast(topping_name as varchar (20))\r\n",
                "), cte_3 as (\r\n",
                "select \r\n",
                "order_id,\r\n",
                "cast(value as int) as extras\r\n",
                "from customer_orders\r\n",
                "cross apply string_split(extras, ',')\r\n",
                "), cte_4 as (\r\n",
                "select \r\n",
                "cast(topping_name as varchar (20)) as topping_name,\r\n",
                "count(*) as topping_count\r\n",
                "from cte_3 a join pizza_toppings b\r\n",
                "on a.extras = b.topping_id\r\n",
                "group by cast(topping_name as varchar (20))\r\n",
                "), cte_5 as (\r\n",
                "select \r\n",
                "topping_name,\r\n",
                "topping_count,\r\n",
                "'excluded' as 'status'\r\n",
                "from cte_2 \r\n",
                "union all\r\n",
                "select \r\n",
                "topping_name,\r\n",
                "topping_count,\r\n",
                "'added' as 'status'\r\n",
                "from cte_4\r\n",
                ")\r\n",
                "select top 2 *\r\n",
                "from cte_5\r\n",
                "order by topping_count desc"
            ],
            "metadata": {
                "azdata_cell_guid": "23701304-a0fe-4a7b-9f8f-b8402ad2d57d",
                "language": "sql"
            },
            "outputs": [
                {
                    "output_type": "display_data",
                    "data": {
                        "text/html": "(2 rows affected)"
                    },
                    "metadata": {}
                },
                {
                    "output_type": "display_data",
                    "data": {
                        "text/html": "Total execution time: 00:00:00.193"
                    },
                    "metadata": {}
                },
                {
                    "output_type": "execute_result",
                    "metadata": {},
                    "execution_count": 3,
                    "data": {
                        "application/vnd.dataresource+json": {
                            "schema": {
                                "fields": [
                                    {
                                        "name": "topping_name"
                                    },
                                    {
                                        "name": "topping_count"
                                    },
                                    {
                                        "name": "status"
                                    }
                                ]
                            },
                            "data": [
                                {
                                    "topping_name": "Cheese",
                                    "topping_count": "4",
                                    "status": "excluded"
                                },
                                {
                                    "topping_name": "Bacon",
                                    "topping_count": "4",
                                    "status": "added"
                                }
                            ]
                        },
                        "text/html": [
                            "<table>",
                            "<tr><th>topping_name</th><th>topping_count</th><th>status</th></tr>",
                            "<tr><td>Cheese</td><td>4</td><td>excluded</td></tr>",
                            "<tr><td>Bacon</td><td>4</td><td>added</td></tr>",
                            "</table>"
                        ]
                    }
                }
            ],
            "execution_count": 3
        },
        {
            "cell_type": "markdown",
            "source": [
                "**Order Items**"
            ],
            "metadata": {
                "azdata_cell_guid": "70c06f61-f369-48dc-9004-4655b8ac608e"
            },
            "attachments": {}
        },
        {
            "cell_type": "code",
            "source": [
                "SELECT order_id, c.pizza_id, exclusions, extras,\r\n",
                "CASE\r\n",
                "\tWHEN order_id in (1, 2, 8) THEN 'Meat Lovers - Bacon, BBQ Sauce, Beef, Cheese, Chicken, Mushrooms, Pepperoni, Salami'\r\n",
                "\tWHEN order_id = 3 AND c.pizza_id = 1 THEN 'Meat Lovers - Bacon, BBQ Sauce, Beef, Cheese, Chicken, Mushrooms, Pepperoni, Salami'\r\n",
                "\tWHEN order_id = 3 AND c.pizza_id = 2 THEN 'Vegetarian - Cheese, Mushrooms, Onions, Peppers, Tomatoes, Tomato Sauce'\r\n",
                "\tWHEN order_id = 4 AND c.pizza_id = 1 AND exclusions = '4' THEN 'Meat Lovers - Excludes Cheese, Bacon, BBQ Sauce, Beef, Chicken, Mushrooms, Pepperoni, Salami'\r\n",
                "\tWHEN order_id = 4 AND c.pizza_id = 2 AND exclusions = '4' THEN 'Vegetarian - Excludes Cheese, Mushrooms, Onions, Peppers, Tomatoes, Tomato Sauce'\r\n",
                "\tWHEN order_id = 5 AND c.pizza_id = 1 AND extras = '1' THEN 'Meat Lovers - Extra Bacon, BBQ Sauce, Beef, Cheese, Chicken, Mushrooms, Pepperoni, Salami'\r\n",
                "\tWHEN order_id = 6 AND c.pizza_id = 2 THEN 'Vegetarian - Cheese, Mushrooms, Onions, Peppers, Tomatoes, Tomato Sauce'\r\n",
                "\tWHEN order_id = 7 THEN 'Vegetarian - Extra Bacon, Cheese, Mushrooms, Onions, Peppers, Tomatoes, Tomato Sauce'\r\n",
                "\tWHEN order_id = 9 THEN 'Meat Lovers - Excludes Cheese, Extra Bacon, Extra Chicken, BBQ Sauce, Beef, Mushrooms, Pepperoni, Salami'\r\n",
                "\tWHEN order_id = 10 AND c.pizza_id = 1 AND exclusions is null THEN 'Meat Lovers - Bacon, BBQ Sauce, Beef, Cheese, Chicken, Mushrooms, Pepperoni, Salami'\r\n",
                "\tELSE 'Meat Lovers - Excludes BBQ Sauce, Excludes Mushrooms, Extra Bacon, Extra Cheese, Beef, Chicken, Mushrooms, Pepperoni, Salami'\r\n",
                "END order_item\r\n",
                "FROM customer_orders c JOIN pizza_names n\r\n",
                "ON c.pizza_id = n.pizza_id"
            ],
            "metadata": {
                "azdata_cell_guid": "2df78b0a-71eb-48a2-ad4d-973f25fe6686",
                "language": "sql"
            },
            "outputs": [
                {
                    "output_type": "display_data",
                    "data": {
                        "text/html": "(14 rows affected)"
                    },
                    "metadata": {}
                },
                {
                    "output_type": "display_data",
                    "data": {
                        "text/html": "Total execution time: 00:00:00.738"
                    },
                    "metadata": {}
                },
                {
                    "output_type": "execute_result",
                    "metadata": {},
                    "execution_count": 4,
                    "data": {
                        "application/vnd.dataresource+json": {
                            "schema": {
                                "fields": [
                                    {
                                        "name": "order_id"
                                    },
                                    {
                                        "name": "pizza_id"
                                    },
                                    {
                                        "name": "exclusions"
                                    },
                                    {
                                        "name": "extras"
                                    },
                                    {
                                        "name": "order_item"
                                    }
                                ]
                            },
                            "data": [
                                {
                                    "order_id": "1",
                                    "pizza_id": "1",
                                    "exclusions": "NULL",
                                    "extras": "NULL",
                                    "order_item": "Meat Lovers - Bacon, BBQ Sauce, Beef, Cheese, Chicken, Mushrooms, Pepperoni, Salami"
                                },
                                {
                                    "order_id": "2",
                                    "pizza_id": "1",
                                    "exclusions": "NULL",
                                    "extras": "NULL",
                                    "order_item": "Meat Lovers - Bacon, BBQ Sauce, Beef, Cheese, Chicken, Mushrooms, Pepperoni, Salami"
                                },
                                {
                                    "order_id": "3",
                                    "pizza_id": "1",
                                    "exclusions": "NULL",
                                    "extras": "NULL",
                                    "order_item": "Meat Lovers - Bacon, BBQ Sauce, Beef, Cheese, Chicken, Mushrooms, Pepperoni, Salami"
                                },
                                {
                                    "order_id": "3",
                                    "pizza_id": "2",
                                    "exclusions": "NULL",
                                    "extras": "NULL",
                                    "order_item": "Vegetarian - Cheese, Mushrooms, Onions, Peppers, Tomatoes, Tomato Sauce"
                                },
                                {
                                    "order_id": "4",
                                    "pizza_id": "1",
                                    "exclusions": "4",
                                    "extras": "NULL",
                                    "order_item": "Meat Lovers - Excludes Cheese, Bacon, BBQ Sauce, Beef, Chicken, Mushrooms, Pepperoni, Salami"
                                },
                                {
                                    "order_id": "4",
                                    "pizza_id": "1",
                                    "exclusions": "4",
                                    "extras": "NULL",
                                    "order_item": "Meat Lovers - Excludes Cheese, Bacon, BBQ Sauce, Beef, Chicken, Mushrooms, Pepperoni, Salami"
                                },
                                {
                                    "order_id": "4",
                                    "pizza_id": "2",
                                    "exclusions": "4",
                                    "extras": "NULL",
                                    "order_item": "Vegetarian - Excludes Cheese, Mushrooms, Onions, Peppers, Tomatoes, Tomato Sauce"
                                },
                                {
                                    "order_id": "5",
                                    "pizza_id": "1",
                                    "exclusions": "NULL",
                                    "extras": "1",
                                    "order_item": "Meat Lovers - Extra Bacon, BBQ Sauce, Beef, Cheese, Chicken, Mushrooms, Pepperoni, Salami"
                                },
                                {
                                    "order_id": "6",
                                    "pizza_id": "2",
                                    "exclusions": "NULL",
                                    "extras": "NULL",
                                    "order_item": "Vegetarian - Cheese, Mushrooms, Onions, Peppers, Tomatoes, Tomato Sauce"
                                },
                                {
                                    "order_id": "7",
                                    "pizza_id": "2",
                                    "exclusions": "NULL",
                                    "extras": "1",
                                    "order_item": "Vegetarian - Extra Bacon, Cheese, Mushrooms, Onions, Peppers, Tomatoes, Tomato Sauce"
                                },
                                {
                                    "order_id": "8",
                                    "pizza_id": "1",
                                    "exclusions": "NULL",
                                    "extras": "NULL",
                                    "order_item": "Meat Lovers - Bacon, BBQ Sauce, Beef, Cheese, Chicken, Mushrooms, Pepperoni, Salami"
                                },
                                {
                                    "order_id": "9",
                                    "pizza_id": "1",
                                    "exclusions": "4",
                                    "extras": "1, 5",
                                    "order_item": "Meat Lovers - Excludes Cheese, Extra Bacon, Extra Chicken, BBQ Sauce, Beef, Mushrooms, Pepperoni, Salami"
                                },
                                {
                                    "order_id": "10",
                                    "pizza_id": "1",
                                    "exclusions": "NULL",
                                    "extras": "NULL",
                                    "order_item": "Meat Lovers - Bacon, BBQ Sauce, Beef, Cheese, Chicken, Mushrooms, Pepperoni, Salami"
                                },
                                {
                                    "order_id": "10",
                                    "pizza_id": "1",
                                    "exclusions": "2, 6",
                                    "extras": "1, 4",
                                    "order_item": "Meat Lovers - Excludes BBQ Sauce, Excludes Mushrooms, Extra Bacon, Extra Cheese, Beef, Chicken, Mushrooms, Pepperoni, Salami"
                                }
                            ]
                        },
                        "text/html": [
                            "<table>",
                            "<tr><th>order_id</th><th>pizza_id</th><th>exclusions</th><th>extras</th><th>order_item</th></tr>",
                            "<tr><td>1</td><td>1</td><td>NULL</td><td>NULL</td><td>Meat Lovers - Bacon, BBQ Sauce, Beef, Cheese, Chicken, Mushrooms, Pepperoni, Salami</td></tr>",
                            "<tr><td>2</td><td>1</td><td>NULL</td><td>NULL</td><td>Meat Lovers - Bacon, BBQ Sauce, Beef, Cheese, Chicken, Mushrooms, Pepperoni, Salami</td></tr>",
                            "<tr><td>3</td><td>1</td><td>NULL</td><td>NULL</td><td>Meat Lovers - Bacon, BBQ Sauce, Beef, Cheese, Chicken, Mushrooms, Pepperoni, Salami</td></tr>",
                            "<tr><td>3</td><td>2</td><td>NULL</td><td>NULL</td><td>Vegetarian - Cheese, Mushrooms, Onions, Peppers, Tomatoes, Tomato Sauce</td></tr>",
                            "<tr><td>4</td><td>1</td><td>4</td><td>NULL</td><td>Meat Lovers - Excludes Cheese, Bacon, BBQ Sauce, Beef, Chicken, Mushrooms, Pepperoni, Salami</td></tr>",
                            "<tr><td>4</td><td>1</td><td>4</td><td>NULL</td><td>Meat Lovers - Excludes Cheese, Bacon, BBQ Sauce, Beef, Chicken, Mushrooms, Pepperoni, Salami</td></tr>",
                            "<tr><td>4</td><td>2</td><td>4</td><td>NULL</td><td>Vegetarian - Excludes Cheese, Mushrooms, Onions, Peppers, Tomatoes, Tomato Sauce</td></tr>",
                            "<tr><td>5</td><td>1</td><td>NULL</td><td>1</td><td>Meat Lovers - Extra Bacon, BBQ Sauce, Beef, Cheese, Chicken, Mushrooms, Pepperoni, Salami</td></tr>",
                            "<tr><td>6</td><td>2</td><td>NULL</td><td>NULL</td><td>Vegetarian - Cheese, Mushrooms, Onions, Peppers, Tomatoes, Tomato Sauce</td></tr>",
                            "<tr><td>7</td><td>2</td><td>NULL</td><td>1</td><td>Vegetarian - Extra Bacon, Cheese, Mushrooms, Onions, Peppers, Tomatoes, Tomato Sauce</td></tr>",
                            "<tr><td>8</td><td>1</td><td>NULL</td><td>NULL</td><td>Meat Lovers - Bacon, BBQ Sauce, Beef, Cheese, Chicken, Mushrooms, Pepperoni, Salami</td></tr>",
                            "<tr><td>9</td><td>1</td><td>4</td><td>1, 5</td><td>Meat Lovers - Excludes Cheese, Extra Bacon, Extra Chicken, BBQ Sauce, Beef, Mushrooms, Pepperoni, Salami</td></tr>",
                            "<tr><td>10</td><td>1</td><td>NULL</td><td>NULL</td><td>Meat Lovers - Bacon, BBQ Sauce, Beef, Cheese, Chicken, Mushrooms, Pepperoni, Salami</td></tr>",
                            "<tr><td>10</td><td>1</td><td>2, 6</td><td>1, 4</td><td>Meat Lovers - Excludes BBQ Sauce, Excludes Mushrooms, Extra Bacon, Extra Cheese, Beef, Chicken, Mushrooms, Pepperoni, Salami</td></tr>",
                            "</table>"
                        ]
                    }
                }
            ],
            "execution_count": 4
        },
        {
            "cell_type": "markdown",
            "source": [
                "**Alphabetically Ordered Ingredient List**"
            ],
            "metadata": {
                "azdata_cell_guid": "f3ef27b1-718f-4888-9a52-b8d5b59669c7"
            },
            "attachments": {}
        },
        {
            "cell_type": "code",
            "source": [
                "SELECT order_id, c.pizza_id, exclusions, extras,\r\n",
                "CASE\r\n",
                "\tWHEN order_id in (1, 2, 8) THEN 'Meat Lovers: Bacon, BBQ Sauce, Beef, Cheese, Chicken, Mushrooms, Pepperoni, Salami'\r\n",
                "\tWHEN order_id = 3 AND c.pizza_id = 1 THEN 'Meat Lovers: Bacon, BBQ Sauce, Beef, Cheese, Chicken, Mushrooms, Pepperoni, Salami'\r\n",
                "\tWHEN order_id = 3 AND c.pizza_id = 2 THEN 'Vegetarian: Cheese, Mushrooms, Onions, Peppers, Tomatoes, Tomato Sauce'\r\n",
                "\tWHEN order_id = 4 AND c.pizza_id = 1 AND exclusions = '4' THEN 'Meat Lovers: Bacon, BBQ Sauce, Beef, Chicken, Mushrooms, Pepperoni, Salami'\r\n",
                "\tWHEN order_id = 4 AND c.pizza_id = 2 AND exclusions = '4' THEN 'Vegetarian: Mushrooms, Onions, Peppers, Tomatoes, Tomato Sauce'\r\n",
                "\tWHEN order_id = 5 AND c.pizza_id = 1 AND extras = '1' THEN 'Meat Lovers: 2xBacon, BBQ Sauce, Beef, Cheese, Chicken, Mushrooms, Pepperoni, Salami'\r\n",
                "\tWHEN order_id = 6 AND c.pizza_id = 2 THEN 'Vegetarian: Cheese, Mushrooms, Onions, Peppers, Tomatoes, Tomato Sauce'\r\n",
                "\tWHEN order_id = 7 THEN 'Vegetarian: \t2xBacon, Cheese, Mushrooms, Onions, Peppers, Tomatoes, Tomato Sauce'\r\n",
                "\tWHEN order_id = 9 THEN 'Meat Lovers: 2xBacon, 2xChicken, BBQ Sauce, Beef, Mushrooms, Pepperoni, Salami'\r\n",
                "\tWHEN order_id = 10 AND c.pizza_id = 1 AND exclusions IS NULL THEN 'Meat Lovers: Bacon, BBQ Sauce, Beef, Cheese, Chicken, Mushrooms, Pepperoni, Salami'\r\n",
                "\tELSE 'Meat Lovers: 2xBacon, 2xCheese, Beef, Chicken, Mushrooms, Pepperoni, Salami'\r\n",
                "END order_item\r\n",
                "FROM customer_orders c JOIN pizza_names n\r\n",
                "ON c.pizza_id = n.pizza_id"
            ],
            "metadata": {
                "azdata_cell_guid": "df85086e-0422-42e8-a1d9-100250d60025",
                "language": "sql"
            },
            "outputs": [
                {
                    "output_type": "display_data",
                    "data": {
                        "text/html": "(14 rows affected)"
                    },
                    "metadata": {}
                },
                {
                    "output_type": "display_data",
                    "data": {
                        "text/html": "Total execution time: 00:00:00.035"
                    },
                    "metadata": {}
                },
                {
                    "output_type": "execute_result",
                    "metadata": {},
                    "execution_count": 5,
                    "data": {
                        "application/vnd.dataresource+json": {
                            "schema": {
                                "fields": [
                                    {
                                        "name": "order_id"
                                    },
                                    {
                                        "name": "pizza_id"
                                    },
                                    {
                                        "name": "exclusions"
                                    },
                                    {
                                        "name": "extras"
                                    },
                                    {
                                        "name": "order_item"
                                    }
                                ]
                            },
                            "data": [
                                {
                                    "order_id": "1",
                                    "pizza_id": "1",
                                    "exclusions": "NULL",
                                    "extras": "NULL",
                                    "order_item": "Meat Lovers: Bacon, BBQ Sauce, Beef, Cheese, Chicken, Mushrooms, Pepperoni, Salami"
                                },
                                {
                                    "order_id": "2",
                                    "pizza_id": "1",
                                    "exclusions": "NULL",
                                    "extras": "NULL",
                                    "order_item": "Meat Lovers: Bacon, BBQ Sauce, Beef, Cheese, Chicken, Mushrooms, Pepperoni, Salami"
                                },
                                {
                                    "order_id": "3",
                                    "pizza_id": "1",
                                    "exclusions": "NULL",
                                    "extras": "NULL",
                                    "order_item": "Meat Lovers: Bacon, BBQ Sauce, Beef, Cheese, Chicken, Mushrooms, Pepperoni, Salami"
                                },
                                {
                                    "order_id": "3",
                                    "pizza_id": "2",
                                    "exclusions": "NULL",
                                    "extras": "NULL",
                                    "order_item": "Vegetarian: Cheese, Mushrooms, Onions, Peppers, Tomatoes, Tomato Sauce"
                                },
                                {
                                    "order_id": "4",
                                    "pizza_id": "1",
                                    "exclusions": "4",
                                    "extras": "NULL",
                                    "order_item": "Meat Lovers: Bacon, BBQ Sauce, Beef, Chicken, Mushrooms, Pepperoni, Salami"
                                },
                                {
                                    "order_id": "4",
                                    "pizza_id": "1",
                                    "exclusions": "4",
                                    "extras": "NULL",
                                    "order_item": "Meat Lovers: Bacon, BBQ Sauce, Beef, Chicken, Mushrooms, Pepperoni, Salami"
                                },
                                {
                                    "order_id": "4",
                                    "pizza_id": "2",
                                    "exclusions": "4",
                                    "extras": "NULL",
                                    "order_item": "Vegetarian: Mushrooms, Onions, Peppers, Tomatoes, Tomato Sauce"
                                },
                                {
                                    "order_id": "5",
                                    "pizza_id": "1",
                                    "exclusions": "NULL",
                                    "extras": "1",
                                    "order_item": "Meat Lovers: 2xBacon, BBQ Sauce, Beef, Cheese, Chicken, Mushrooms, Pepperoni, Salami"
                                },
                                {
                                    "order_id": "6",
                                    "pizza_id": "2",
                                    "exclusions": "NULL",
                                    "extras": "NULL",
                                    "order_item": "Vegetarian: Cheese, Mushrooms, Onions, Peppers, Tomatoes, Tomato Sauce"
                                },
                                {
                                    "order_id": "7",
                                    "pizza_id": "2",
                                    "exclusions": "NULL",
                                    "extras": "1",
                                    "order_item": "Vegetarian: \t2xBacon, Cheese, Mushrooms, Onions, Peppers, Tomatoes, Tomato Sauce"
                                },
                                {
                                    "order_id": "8",
                                    "pizza_id": "1",
                                    "exclusions": "NULL",
                                    "extras": "NULL",
                                    "order_item": "Meat Lovers: Bacon, BBQ Sauce, Beef, Cheese, Chicken, Mushrooms, Pepperoni, Salami"
                                },
                                {
                                    "order_id": "9",
                                    "pizza_id": "1",
                                    "exclusions": "4",
                                    "extras": "1, 5",
                                    "order_item": "Meat Lovers: 2xBacon, 2xChicken, BBQ Sauce, Beef, Mushrooms, Pepperoni, Salami"
                                },
                                {
                                    "order_id": "10",
                                    "pizza_id": "1",
                                    "exclusions": "NULL",
                                    "extras": "NULL",
                                    "order_item": "Meat Lovers: Bacon, BBQ Sauce, Beef, Cheese, Chicken, Mushrooms, Pepperoni, Salami"
                                },
                                {
                                    "order_id": "10",
                                    "pizza_id": "1",
                                    "exclusions": "2, 6",
                                    "extras": "1, 4",
                                    "order_item": "Meat Lovers: 2xBacon, 2xCheese, Beef, Chicken, Mushrooms, Pepperoni, Salami"
                                }
                            ]
                        },
                        "text/html": [
                            "<table>",
                            "<tr><th>order_id</th><th>pizza_id</th><th>exclusions</th><th>extras</th><th>order_item</th></tr>",
                            "<tr><td>1</td><td>1</td><td>NULL</td><td>NULL</td><td>Meat Lovers: Bacon, BBQ Sauce, Beef, Cheese, Chicken, Mushrooms, Pepperoni, Salami</td></tr>",
                            "<tr><td>2</td><td>1</td><td>NULL</td><td>NULL</td><td>Meat Lovers: Bacon, BBQ Sauce, Beef, Cheese, Chicken, Mushrooms, Pepperoni, Salami</td></tr>",
                            "<tr><td>3</td><td>1</td><td>NULL</td><td>NULL</td><td>Meat Lovers: Bacon, BBQ Sauce, Beef, Cheese, Chicken, Mushrooms, Pepperoni, Salami</td></tr>",
                            "<tr><td>3</td><td>2</td><td>NULL</td><td>NULL</td><td>Vegetarian: Cheese, Mushrooms, Onions, Peppers, Tomatoes, Tomato Sauce</td></tr>",
                            "<tr><td>4</td><td>1</td><td>4</td><td>NULL</td><td>Meat Lovers: Bacon, BBQ Sauce, Beef, Chicken, Mushrooms, Pepperoni, Salami</td></tr>",
                            "<tr><td>4</td><td>1</td><td>4</td><td>NULL</td><td>Meat Lovers: Bacon, BBQ Sauce, Beef, Chicken, Mushrooms, Pepperoni, Salami</td></tr>",
                            "<tr><td>4</td><td>2</td><td>4</td><td>NULL</td><td>Vegetarian: Mushrooms, Onions, Peppers, Tomatoes, Tomato Sauce</td></tr>",
                            "<tr><td>5</td><td>1</td><td>NULL</td><td>1</td><td>Meat Lovers: 2xBacon, BBQ Sauce, Beef, Cheese, Chicken, Mushrooms, Pepperoni, Salami</td></tr>",
                            "<tr><td>6</td><td>2</td><td>NULL</td><td>NULL</td><td>Vegetarian: Cheese, Mushrooms, Onions, Peppers, Tomatoes, Tomato Sauce</td></tr>",
                            "<tr><td>7</td><td>2</td><td>NULL</td><td>1</td><td>Vegetarian: \t2xBacon, Cheese, Mushrooms, Onions, Peppers, Tomatoes, Tomato Sauce</td></tr>",
                            "<tr><td>8</td><td>1</td><td>NULL</td><td>NULL</td><td>Meat Lovers: Bacon, BBQ Sauce, Beef, Cheese, Chicken, Mushrooms, Pepperoni, Salami</td></tr>",
                            "<tr><td>9</td><td>1</td><td>4</td><td>1, 5</td><td>Meat Lovers: 2xBacon, 2xChicken, BBQ Sauce, Beef, Mushrooms, Pepperoni, Salami</td></tr>",
                            "<tr><td>10</td><td>1</td><td>NULL</td><td>NULL</td><td>Meat Lovers: Bacon, BBQ Sauce, Beef, Cheese, Chicken, Mushrooms, Pepperoni, Salami</td></tr>",
                            "<tr><td>10</td><td>1</td><td>2, 6</td><td>1, 4</td><td>Meat Lovers: 2xBacon, 2xCheese, Beef, Chicken, Mushrooms, Pepperoni, Salami</td></tr>",
                            "</table>"
                        ]
                    }
                }
            ],
            "execution_count": 5
        },
        {
            "cell_type": "markdown",
            "source": [
                "**Total Quantity of each Ingredient Sorted by Frequency**"
            ],
            "metadata": {
                "azdata_cell_guid": "c0fa8c05-4352-4d3f-8db1-61a67f2a57be"
            },
            "attachments": {}
        },
        {
            "cell_type": "code",
            "source": [
                "with cte as (\r\n",
                "select\r\n",
                "sum(case\r\n",
                "\twhen a.pizza_id = 1 and extras like '%1%' then 2\r\n",
                "\twhen exclusions like '%1%' then null\r\n",
                "\twhen a.pizza_id = 1 then 1\r\n",
                "\twhen a.pizza_id = 2 and extras like '%1%' then 1\r\n",
                "\telse null\r\n",
                "end) as 'Bacon',\r\n",
                "sum(case\r\n",
                "\twhen a.pizza_id = 1 and extras like '%2%' then 2\r\n",
                "\twhen exclusions like '%2%' then null\r\n",
                "\twhen a.pizza_id = 1 then 1\r\n",
                "\twhen a.pizza_id = 2 and extras like '%2%' then 1\r\n",
                "\telse null\r\n",
                "end) as 'BBQ Sauce',\r\n",
                "sum(case\r\n",
                "\twhen a.pizza_id = 1 and extras like '%3%' then 2\r\n",
                "\twhen exclusions like '%3%' then null\r\n",
                "\twhen a.pizza_id = 1 then 1\r\n",
                "\twhen a.pizza_id = 2 and extras like '%3%' then 1\r\n",
                "\telse null\r\n",
                "end) as 'Beef',\r\n",
                "sum(case\r\n",
                "\twhen a.pizza_id in (1, 2) and extras like '%4%' then 2\r\n",
                "\twhen exclusions like '%4%' then null\r\n",
                "\twhen a.pizza_id in (1, 2) then 1\r\n",
                "\telse null\r\n",
                "end) as 'Cheese',\r\n",
                "sum(case\r\n",
                "\twhen a.pizza_id = 1 and extras like '%5%' then 2\r\n",
                "\twhen exclusions like '%5%' then null\r\n",
                "\twhen a.pizza_id = 1 then 1\r\n",
                "\twhen a.pizza_id = 2 and extras like '%5%' then 1\r\n",
                "\telse null\r\n",
                "end) as 'Chicken',\r\n",
                "sum(case\r\n",
                "\twhen a.pizza_id in (1, 2) and extras like '%6%' then 2\r\n",
                "\twhen exclusions like '%6%' then null\r\n",
                "\twhen a.pizza_id in (1, 2) then 1\r\n",
                "\telse null\r\n",
                "end)  as 'Mushrooms',\r\n",
                "sum(case\r\n",
                "\twhen a.pizza_id = 1 and extras like '%8%' then 2\r\n",
                "\twhen exclusions like '%8%' then null\r\n",
                "\twhen a.pizza_id = 1 then 1\r\n",
                "\twhen a.pizza_id = 2 and extras like '%8%' then 1\r\n",
                "\telse null\r\n",
                "end) as 'Pepperoni',\r\n",
                "sum(case\r\n",
                "\twhen a.pizza_id = 1 and extras like '%10%' then 2\r\n",
                "\twhen exclusions like '%10%' then null\r\n",
                "\twhen a.pizza_id = 1 then 1\r\n",
                "\twhen a.pizza_id = 2 and extras like '%10%' then 1\r\n",
                "\telse null\r\n",
                "end) as 'Salami',\r\n",
                "sum(case\r\n",
                "\twhen a.pizza_id = 2 and extras like '%7%' then 2\r\n",
                "\twhen exclusions like '%7%' then null\r\n",
                "\twhen a.pizza_id = 2 then 1\r\n",
                "\twhen a.pizza_id = 1 and extras like '%7%' then 1\r\n",
                "\telse null \r\n",
                "end) as 'Onions',\r\n",
                "sum(case\r\n",
                "\twhen a.pizza_id = 2 and extras like '%9%' then 2\r\n",
                "\twhen exclusions like '%9%' then null\r\n",
                "\twhen a.pizza_id = 2 then 1\r\n",
                "\twhen a.pizza_id = 1 and extras like '%9%' then 1\r\n",
                "\telse null \r\n",
                "end) as 'Peppers',\r\n",
                "sum(case\r\n",
                "\twhen a.pizza_id = 2 and extras like '%11%' then 2\r\n",
                "\twhen exclusions like '%11%' then null\r\n",
                "\twhen a.pizza_id = 2 then 1\r\n",
                "\twhen a.pizza_id = 1 and extras like '%11%' then 1\r\n",
                "\telse null \r\n",
                "end) as 'Tomatoes',\r\n",
                "sum(case\r\n",
                "\twhen a.pizza_id = 2 and extras like '%12%' then 2\r\n",
                "\twhen exclusions like '%12%' then null\r\n",
                "\twhen a.pizza_id = 2 then 1\r\n",
                "\twhen a.pizza_id = 1 and extras like '%12%' then 1\r\n",
                "\telse null \r\n",
                "end) as 'Tomato Sauce'\r\n",
                "from customer_orders a join runner_orders b\r\n",
                "on a.order_id = b.order_id\r\n",
                "where cancellation is null\r\n",
                ") \r\n",
                "select \r\n",
                "'Bacon' as 'Topping',\r\n",
                "Bacon as 'Topping Count'\r\n",
                "from cte\r\n",
                "union all\r\n",
                "select \r\n",
                "'BBQ Sauce' as 'Topping',\r\n",
                "[BBQ Sauce] as 'Topping Count'\r\n",
                "from cte\r\n",
                "union all\r\n",
                "select \r\n",
                "'Beef' as 'Topping',\r\n",
                "Beef as 'Topping Count'\r\n",
                "from cte\r\n",
                "union all\r\n",
                "select \r\n",
                "'Cheese' as 'Topping',\r\n",
                "Cheese as 'Topping Count'\r\n",
                "from cte\r\n",
                "union all\r\n",
                "select \r\n",
                "'Chicken' as 'Topping',\r\n",
                "Chicken as 'Topping Count'\r\n",
                "from cte\r\n",
                "union all\r\n",
                "select \r\n",
                "'Mushrooms' as 'Topping',\r\n",
                "Mushrooms as 'Topping Count'\r\n",
                "from cte\r\n",
                "union all\r\n",
                "select \r\n",
                "'Pepperoni' as 'Topping',\r\n",
                "Pepperoni as 'Topping Count'\r\n",
                "from cte\r\n",
                "union all\r\n",
                "select \r\n",
                "'Salami' as 'Topping',\r\n",
                "Salami as 'Topping Count'\r\n",
                "from cte\r\n",
                "union all\r\n",
                "select \r\n",
                "'Onions' as 'Topping',\r\n",
                "Onions as 'Topping Count'\r\n",
                "from cte\r\n",
                "union all\r\n",
                "select \r\n",
                "'Peppers' as 'Topping',\r\n",
                "Peppers as 'Topping Count'\r\n",
                "from cte\r\n",
                "union all\r\n",
                "select \r\n",
                "'Tomatoes' as 'Topping',\r\n",
                "Tomatoes as 'Topping Count'\r\n",
                "from cte\r\n",
                "union all\r\n",
                "select \r\n",
                "'Tomato Sauce' as 'Topping',\r\n",
                "[Tomato Sauce] as 'Topping Count'\r\n",
                "from cte \r\n",
                "order by [Topping Count] desc"
            ],
            "metadata": {
                "azdata_cell_guid": "2a30dec3-5f93-4f15-99f7-47faa1ddad7c",
                "language": "sql",
                "tags": []
            },
            "outputs": [
                {
                    "output_type": "display_data",
                    "data": {
                        "text/html": "Warning: Null value is eliminated by an aggregate or other SET operation."
                    },
                    "metadata": {}
                },
                {
                    "output_type": "display_data",
                    "data": {
                        "text/html": "(12 rows affected)"
                    },
                    "metadata": {}
                },
                {
                    "output_type": "display_data",
                    "data": {
                        "text/html": "Total execution time: 00:00:25.166"
                    },
                    "metadata": {}
                },
                {
                    "output_type": "execute_result",
                    "metadata": {},
                    "execution_count": 6,
                    "data": {
                        "application/vnd.dataresource+json": {
                            "schema": {
                                "fields": [
                                    {
                                        "name": "Topping"
                                    },
                                    {
                                        "name": "Topping Count"
                                    }
                                ]
                            },
                            "data": [
                                {
                                    "Topping": "Bacon",
                                    "Topping Count": "12"
                                },
                                {
                                    "Topping": "Mushrooms",
                                    "Topping Count": "11"
                                },
                                {
                                    "Topping": "Cheese",
                                    "Topping Count": "10"
                                },
                                {
                                    "Topping": "Beef",
                                    "Topping Count": "9"
                                },
                                {
                                    "Topping": "Chicken",
                                    "Topping Count": "9"
                                },
                                {
                                    "Topping": "Pepperoni",
                                    "Topping Count": "9"
                                },
                                {
                                    "Topping": "Salami",
                                    "Topping Count": "9"
                                },
                                {
                                    "Topping": "BBQ Sauce",
                                    "Topping Count": "8"
                                },
                                {
                                    "Topping": "Onions",
                                    "Topping Count": "3"
                                },
                                {
                                    "Topping": "Peppers",
                                    "Topping Count": "3"
                                },
                                {
                                    "Topping": "Tomato Sauce",
                                    "Topping Count": "3"
                                },
                                {
                                    "Topping": "Tomatoes",
                                    "Topping Count": "3"
                                }
                            ]
                        },
                        "text/html": [
                            "<table>",
                            "<tr><th>Topping</th><th>Topping Count</th></tr>",
                            "<tr><td>Bacon</td><td>12</td></tr>",
                            "<tr><td>Mushrooms</td><td>11</td></tr>",
                            "<tr><td>Cheese</td><td>10</td></tr>",
                            "<tr><td>Beef</td><td>9</td></tr>",
                            "<tr><td>Chicken</td><td>9</td></tr>",
                            "<tr><td>Pepperoni</td><td>9</td></tr>",
                            "<tr><td>Salami</td><td>9</td></tr>",
                            "<tr><td>BBQ Sauce</td><td>8</td></tr>",
                            "<tr><td>Onions</td><td>3</td></tr>",
                            "<tr><td>Peppers</td><td>3</td></tr>",
                            "<tr><td>Tomato Sauce</td><td>3</td></tr>",
                            "<tr><td>Tomatoes</td><td>3</td></tr>",
                            "</table>"
                        ]
                    }
                }
            ],
            "execution_count": 6
        }
    ]
}