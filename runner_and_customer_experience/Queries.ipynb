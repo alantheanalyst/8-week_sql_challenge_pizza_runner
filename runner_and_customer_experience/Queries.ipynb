{
    "metadata": {
        "kernelspec": {
            "name": "SQL",
            "display_name": "SQL",
            "language": "sql"
        },
        "language_info": {
            "name": "sql",
            "version": ""
        }
    },
    "nbformat_minor": 2,
    "nbformat": 4,
    "cells": [
        {
            "cell_type": "markdown",
            "source": [
                "**Runner Registration per Week**"
            ],
            "metadata": {
                "azdata_cell_guid": "e7685d97-505f-4f19-9457-b51699c4e1c1"
            },
            "attachments": {}
        },
        {
            "cell_type": "code",
            "source": [
                "SELECT COUNT(runner_id) runner_registration, DATEPART(WEEK, registration_date) registration_week\r\n",
                "FROM runners\r\n",
                "GROUP BY DATEPART(WEEK, registration_date)\r\n",
                "ORDER BY registration_week"
            ],
            "metadata": {
                "azdata_cell_guid": "7b3eac02-cb86-4034-ab3c-429665556edd",
                "language": "sql"
            },
            "outputs": [
                {
                    "output_type": "display_data",
                    "data": {
                        "text/html": "(3 rows affected)"
                    },
                    "metadata": {}
                },
                {
                    "output_type": "display_data",
                    "data": {
                        "text/html": "Total execution time: 00:00:00.034"
                    },
                    "metadata": {}
                },
                {
                    "output_type": "execute_result",
                    "metadata": {},
                    "execution_count": 5,
                    "data": {
                        "application/vnd.dataresource+json": {
                            "schema": {
                                "fields": [
                                    {
                                        "name": "runner_registration"
                                    },
                                    {
                                        "name": "registration_week"
                                    }
                                ]
                            },
                            "data": [
                                {
                                    "runner_registration": "1",
                                    "registration_week": "1"
                                },
                                {
                                    "runner_registration": "2",
                                    "registration_week": "2"
                                },
                                {
                                    "runner_registration": "1",
                                    "registration_week": "3"
                                }
                            ]
                        },
                        "text/html": [
                            "<table>",
                            "<tr><th>runner_registration</th><th>registration_week</th></tr>",
                            "<tr><td>1</td><td>1</td></tr>",
                            "<tr><td>2</td><td>2</td></tr>",
                            "<tr><td>1</td><td>3</td></tr>",
                            "</table>"
                        ]
                    }
                }
            ],
            "execution_count": 5
        },
        {
            "cell_type": "markdown",
            "source": [
                "**Data Cleaning**"
            ],
            "metadata": {
                "language": "sql",
                "azdata_cell_guid": "f9498d60-90c6-4b79-a6c1-3feed9d29474"
            },
            "attachments": {}
        },
        {
            "cell_type": "code",
            "source": [
                "BEGIN TRANSACTION\r\n",
                "\r\n",
                "UPDATE runner_orders\r\n",
                "SET duration = REPLACE(duration, 'minutes', '')\r\n",
                "\r\n",
                "UPDATE runner_orders\r\n",
                "SET duration = REPLACE(duration, 'minute', '')\r\n",
                "\r\n",
                "UPDATE runner_orders\r\n",
                "SET duration = REPLACE(duration, 'mins', '')\r\n",
                "\r\n",
                "ALTER TABLE runner_orders\r\n",
                "ALTER COLUMN duration INT\r\n",
                "\r\n",
                "ALTER TABLE runner_orders\r\n",
                "ALTER COLUMN pickup_time datetime\r\n",
                "\r\n",
                "COMMIT"
            ],
            "metadata": {
                "language": "sql",
                "azdata_cell_guid": "2965d691-ba69-44ff-bee5-65999eaf2f5b"
            },
            "outputs": [
                {
                    "output_type": "display_data",
                    "data": {
                        "text/html": "(10 rows affected)"
                    },
                    "metadata": {}
                },
                {
                    "output_type": "display_data",
                    "data": {
                        "text/html": "(10 rows affected)"
                    },
                    "metadata": {}
                },
                {
                    "output_type": "display_data",
                    "data": {
                        "text/html": "(10 rows affected)"
                    },
                    "metadata": {}
                },
                {
                    "output_type": "display_data",
                    "data": {
                        "text/html": "Total execution time: 00:00:00.089"
                    },
                    "metadata": {}
                }
            ],
            "execution_count": 6
        },
        {
            "cell_type": "markdown",
            "source": [
                "**<mark>Average</mark> Arrival Time (Minutes) to HQ**"
            ],
            "metadata": {
                "language": "sql",
                "azdata_cell_guid": "0fb698f1-ebbe-48c8-9464-1ca0da3b23df"
            },
            "attachments": {}
        },
        {
            "cell_type": "code",
            "source": [
                "SELECT runner_id, ABS(AVG(DATEPART(MINUTE, order_time) - DATEPART(MINUTE, pickup_time))) avg_time\r\n",
                "FROM runner_orders r JOIN customer_orders c\r\n",
                "ON r.order_id = c.order_id\r\n",
                "GROUP BY runner_id"
            ],
            "metadata": {
                "language": "sql",
                "azdata_cell_guid": "e91a2750-466b-45e3-be21-050d276c41c8",
                "tags": []
            },
            "outputs": [
                {
                    "output_type": "display_data",
                    "data": {
                        "text/html": "Warning: Null value is eliminated by an aggregate or other SET operation."
                    },
                    "metadata": {}
                },
                {
                    "output_type": "display_data",
                    "data": {
                        "text/html": "(3 rows affected)"
                    },
                    "metadata": {}
                },
                {
                    "output_type": "display_data",
                    "data": {
                        "text/html": "Total execution time: 00:00:00.042"
                    },
                    "metadata": {}
                },
                {
                    "output_type": "execute_result",
                    "metadata": {},
                    "execution_count": 7,
                    "data": {
                        "application/vnd.dataresource+json": {
                            "schema": {
                                "fields": [
                                    {
                                        "name": "runner_id"
                                    },
                                    {
                                        "name": "avg_time"
                                    }
                                ]
                            },
                            "data": [
                                {
                                    "runner_id": "1",
                                    "avg_time": "4"
                                },
                                {
                                    "runner_id": "2",
                                    "avg_time": "12"
                                },
                                {
                                    "runner_id": "3",
                                    "avg_time": "10"
                                }
                            ]
                        },
                        "text/html": [
                            "<table>",
                            "<tr><th>runner_id</th><th>avg_time</th></tr>",
                            "<tr><td>1</td><td>4</td></tr>",
                            "<tr><td>2</td><td>12</td></tr>",
                            "<tr><td>3</td><td>10</td></tr>",
                            "</table>"
                        ]
                    }
                }
            ],
            "execution_count": 7
        },
        {
            "cell_type": "markdown",
            "source": [
                "**Pizzas Made per Preparation Time (Minutes)**"
            ],
            "metadata": {
                "language": "sql",
                "azdata_cell_guid": "a92bb5d2-4083-4f7c-b627-01e11793b5f1"
            },
            "attachments": {}
        },
        {
            "cell_type": "code",
            "source": [
                "WITH prep_time AS (\r\n",
                "SELECT COUNT(*) pizza_count, \r\n",
                "DATEDIFF(MINUTE, order_time, pickup_time) time\r\n",
                "FROM customer_orders c JOIN runner_orders r\r\n",
                "ON c.order_id = r.order_id\r\n",
                "WHERE pickup_time IS NOT NULL\r\n",
                "GROUP BY order_time, pickup_time \r\n",
                ")\r\n",
                "SELECT DISTINCT pizza_count, time\r\n",
                "FROM prep_time\r\n",
                "ORDER BY time"
            ],
            "metadata": {
                "language": "sql",
                "azdata_cell_guid": "a7ec25d6-c78e-4998-b78f-e301c916b42f"
            },
            "outputs": [
                {
                    "output_type": "display_data",
                    "data": {
                        "text/html": "(5 rows affected)"
                    },
                    "metadata": {}
                },
                {
                    "output_type": "display_data",
                    "data": {
                        "text/html": "Total execution time: 00:00:00.030"
                    },
                    "metadata": {}
                },
                {
                    "output_type": "execute_result",
                    "metadata": {},
                    "execution_count": 8,
                    "data": {
                        "application/vnd.dataresource+json": {
                            "schema": {
                                "fields": [
                                    {
                                        "name": "pizza_count"
                                    },
                                    {
                                        "name": "time"
                                    }
                                ]
                            },
                            "data": [
                                {
                                    "pizza_count": "1",
                                    "time": "10"
                                },
                                {
                                    "pizza_count": "2",
                                    "time": "16"
                                },
                                {
                                    "pizza_count": "1",
                                    "time": "21"
                                },
                                {
                                    "pizza_count": "2",
                                    "time": "21"
                                },
                                {
                                    "pizza_count": "3",
                                    "time": "30"
                                }
                            ]
                        },
                        "text/html": [
                            "<table>",
                            "<tr><th>pizza_count</th><th>time</th></tr>",
                            "<tr><td>1</td><td>10</td></tr>",
                            "<tr><td>2</td><td>16</td></tr>",
                            "<tr><td>1</td><td>21</td></tr>",
                            "<tr><td>2</td><td>21</td></tr>",
                            "<tr><td>3</td><td>30</td></tr>",
                            "</table>"
                        ]
                    }
                }
            ],
            "execution_count": 8
        },
        {
            "cell_type": "markdown",
            "source": [
                "**<mark>Average</mark> <mark>D</mark>istance (km) Travelle<mark>d</mark> per Customer**"
            ],
            "metadata": {
                "language": "sql",
                "azdata_cell_guid": "7e422015-aba5-4d1d-a0c2-370d42e33642"
            },
            "attachments": {}
        },
        {
            "cell_type": "code",
            "source": [
                "BEGIN TRANSACTION\r\n",
                "UPDATE runner_orders\r\n",
                "SET distance = REPLACE(distance, 'km', '')\r\n",
                "\r\n",
                "ALTER TABLE runner_orders\r\n",
                "ALTER COLUMN distance FLOAT\r\n",
                "COMMIT"
            ],
            "metadata": {
                "language": "sql",
                "azdata_cell_guid": "c412a2a0-32cc-44f2-a772-f2b17b4005ab"
            },
            "outputs": [
                {
                    "output_type": "display_data",
                    "data": {
                        "text/html": "(10 rows affected)"
                    },
                    "metadata": {}
                },
                {
                    "output_type": "display_data",
                    "data": {
                        "text/html": "Total execution time: 00:00:00.015"
                    },
                    "metadata": {}
                }
            ],
            "execution_count": 9
        },
        {
            "cell_type": "code",
            "source": [
                "SELECT runner_id, customer_id, AVG(CAST(distance as INT)) avg_distance\r\n",
                "FROM runner_orders r JOIN customer_orders c\r\n",
                "ON r.order_id = c.order_id\r\n",
                "WHERE cancellation IS NULL\r\n",
                "GROUP BY runner_id, customer_id"
            ],
            "metadata": {
                "language": "sql",
                "azdata_cell_guid": "6b307d1a-f27a-4850-8240-497b35dcc1d9"
            },
            "outputs": [
                {
                    "output_type": "display_data",
                    "data": {
                        "text/html": "(7 rows affected)"
                    },
                    "metadata": {}
                },
                {
                    "output_type": "display_data",
                    "data": {
                        "text/html": "Total execution time: 00:00:00.042"
                    },
                    "metadata": {}
                },
                {
                    "output_type": "execute_result",
                    "metadata": {},
                    "execution_count": 10,
                    "data": {
                        "application/vnd.dataresource+json": {
                            "schema": {
                                "fields": [
                                    {
                                        "name": "runner_id"
                                    },
                                    {
                                        "name": "customer_id"
                                    },
                                    {
                                        "name": "avg_distance"
                                    }
                                ]
                            },
                            "data": [
                                {
                                    "runner_id": "1",
                                    "customer_id": "101",
                                    "avg_distance": "20"
                                },
                                {
                                    "runner_id": "1",
                                    "customer_id": "102",
                                    "avg_distance": "13"
                                },
                                {
                                    "runner_id": "2",
                                    "customer_id": "102",
                                    "avg_distance": "23"
                                },
                                {
                                    "runner_id": "2",
                                    "customer_id": "103",
                                    "avg_distance": "23"
                                },
                                {
                                    "runner_id": "1",
                                    "customer_id": "104",
                                    "avg_distance": "10"
                                },
                                {
                                    "runner_id": "3",
                                    "customer_id": "104",
                                    "avg_distance": "10"
                                },
                                {
                                    "runner_id": "2",
                                    "customer_id": "105",
                                    "avg_distance": "25"
                                }
                            ]
                        },
                        "text/html": [
                            "<table>",
                            "<tr><th>runner_id</th><th>customer_id</th><th>avg_distance</th></tr>",
                            "<tr><td>1</td><td>101</td><td>20</td></tr>",
                            "<tr><td>1</td><td>102</td><td>13</td></tr>",
                            "<tr><td>2</td><td>102</td><td>23</td></tr>",
                            "<tr><td>2</td><td>103</td><td>23</td></tr>",
                            "<tr><td>1</td><td>104</td><td>10</td></tr>",
                            "<tr><td>3</td><td>104</td><td>10</td></tr>",
                            "<tr><td>2</td><td>105</td><td>25</td></tr>",
                            "</table>"
                        ]
                    }
                }
            ],
            "execution_count": 10
        },
        {
            "cell_type": "markdown",
            "source": [
                "**Shortest - Longest Delivery Times**"
            ],
            "metadata": {
                "language": "sql",
                "azdata_cell_guid": "16dd79ad-7687-46c3-a4b0-20e22590a2be"
            },
            "attachments": {}
        },
        {
            "cell_type": "code",
            "source": [
                "SELECT MAX(duration ) - MIN(duration) 'difference between longest_and shortest orders'\r\n",
                "FROM runner_orders r JOIN customer_orders c\r\n",
                "ON r.order_id = c.order_id"
            ],
            "metadata": {
                "language": "sql",
                "azdata_cell_guid": "16b952bd-bbef-4645-9cf7-b84ae7d60154"
            },
            "outputs": [
                {
                    "output_type": "display_data",
                    "data": {
                        "text/html": "Warning: Null value is eliminated by an aggregate or other SET operation."
                    },
                    "metadata": {}
                },
                {
                    "output_type": "display_data",
                    "data": {
                        "text/html": "(1 row affected)"
                    },
                    "metadata": {}
                },
                {
                    "output_type": "display_data",
                    "data": {
                        "text/html": "Total execution time: 00:00:00.017"
                    },
                    "metadata": {}
                },
                {
                    "output_type": "execute_result",
                    "metadata": {},
                    "execution_count": 11,
                    "data": {
                        "application/vnd.dataresource+json": {
                            "schema": {
                                "fields": [
                                    {
                                        "name": "difference between longest_and shortest orders"
                                    }
                                ]
                            },
                            "data": [
                                {
                                    "difference between longest_and shortest orders": "30"
                                }
                            ]
                        },
                        "text/html": [
                            "<table>",
                            "<tr><th>difference between longest_and shortest orders</th></tr>",
                            "<tr><td>30</td></tr>",
                            "</table>"
                        ]
                    }
                }
            ],
            "execution_count": 11
        },
        {
            "cell_type": "markdown",
            "source": [
                "**Average Speed per Delivery**"
            ],
            "metadata": {
                "language": "sql",
                "azdata_cell_guid": "2a59e445-85da-4e7b-96bf-ddd106e855c5"
            },
            "attachments": {}
        },
        {
            "cell_type": "code",
            "source": [
                "SELECT runner_id, order_id AS delivery, AVG(ROUND(distance/duration, 2)) avg_speed\r\n",
                "FROM runner_orders\r\n",
                "WHERE cancellation IS NULL\r\n",
                "GROUP BY runner_id, order_id"
            ],
            "metadata": {
                "language": "sql",
                "azdata_cell_guid": "bafbee29-681d-4394-854e-bd568538dd1e"
            },
            "outputs": [
                {
                    "output_type": "display_data",
                    "data": {
                        "text/html": "(8 rows affected)"
                    },
                    "metadata": {}
                },
                {
                    "output_type": "display_data",
                    "data": {
                        "text/html": "Total execution time: 00:00:00.035"
                    },
                    "metadata": {}
                },
                {
                    "output_type": "execute_result",
                    "metadata": {},
                    "execution_count": 12,
                    "data": {
                        "application/vnd.dataresource+json": {
                            "schema": {
                                "fields": [
                                    {
                                        "name": "runner_id"
                                    },
                                    {
                                        "name": "delivery"
                                    },
                                    {
                                        "name": "avg_speed"
                                    }
                                ]
                            },
                            "data": [
                                {
                                    "runner_id": "1",
                                    "delivery": "1",
                                    "avg_speed": "0.63"
                                },
                                {
                                    "runner_id": "1",
                                    "delivery": "2",
                                    "avg_speed": "0.74"
                                },
                                {
                                    "runner_id": "1",
                                    "delivery": "3",
                                    "avg_speed": "0.67"
                                },
                                {
                                    "runner_id": "2",
                                    "delivery": "4",
                                    "avg_speed": "0.58"
                                },
                                {
                                    "runner_id": "3",
                                    "delivery": "5",
                                    "avg_speed": "0.67"
                                },
                                {
                                    "runner_id": "2",
                                    "delivery": "7",
                                    "avg_speed": "1"
                                },
                                {
                                    "runner_id": "2",
                                    "delivery": "8",
                                    "avg_speed": "1.56"
                                },
                                {
                                    "runner_id": "1",
                                    "delivery": "10",
                                    "avg_speed": "1"
                                }
                            ]
                        },
                        "text/html": [
                            "<table>",
                            "<tr><th>runner_id</th><th>delivery</th><th>avg_speed</th></tr>",
                            "<tr><td>1</td><td>1</td><td>0.63</td></tr>",
                            "<tr><td>1</td><td>2</td><td>0.74</td></tr>",
                            "<tr><td>1</td><td>3</td><td>0.67</td></tr>",
                            "<tr><td>2</td><td>4</td><td>0.58</td></tr>",
                            "<tr><td>3</td><td>5</td><td>0.67</td></tr>",
                            "<tr><td>2</td><td>7</td><td>1</td></tr>",
                            "<tr><td>2</td><td>8</td><td>1.56</td></tr>",
                            "<tr><td>1</td><td>10</td><td>1</td></tr>",
                            "</table>"
                        ]
                    }
                }
            ],
            "execution_count": 12
        },
        {
            "cell_type": "markdown",
            "source": [
                "**Successful Delivery % per Runner**"
            ],
            "metadata": {
                "language": "sql",
                "azdata_cell_guid": "b8652c39-fd96-43c5-a41f-3e77af68bae2"
            },
            "attachments": {}
        },
        {
            "cell_type": "code",
            "source": [
                "SELECT runner_id,\r\n",
                "ROUND(CAST(SUM(\r\n",
                "CASE \r\n",
                "    WHEN cancellation IS NOT NULL THEN 0\r\n",
                "    ELSE 1    \r\n",
                "END) AS FLOAT) / COUNT(*), 2) * 100 as '%'\r\n",
                "FROM runner_orders\r\n",
                "GROUP BY runner_id"
            ],
            "metadata": {
                "language": "sql",
                "azdata_cell_guid": "14b2742b-a8ba-422a-9412-7d16bd745ef7"
            },
            "outputs": [
                {
                    "output_type": "display_data",
                    "data": {
                        "text/html": "(3 rows affected)"
                    },
                    "metadata": {}
                },
                {
                    "output_type": "display_data",
                    "data": {
                        "text/html": "Total execution time: 00:00:00.019"
                    },
                    "metadata": {}
                },
                {
                    "output_type": "execute_result",
                    "metadata": {},
                    "execution_count": 39,
                    "data": {
                        "application/vnd.dataresource+json": {
                            "schema": {
                                "fields": [
                                    {
                                        "name": "runner_id"
                                    },
                                    {
                                        "name": "%"
                                    }
                                ]
                            },
                            "data": [
                                {
                                    "runner_id": "1",
                                    "%": "100"
                                },
                                {
                                    "runner_id": "2",
                                    "%": "75"
                                },
                                {
                                    "runner_id": "3",
                                    "%": "50"
                                }
                            ]
                        },
                        "text/html": [
                            "<table>",
                            "<tr><th>runner_id</th><th>%</th></tr>",
                            "<tr><td>1</td><td>100</td></tr>",
                            "<tr><td>2</td><td>75</td></tr>",
                            "<tr><td>3</td><td>50</td></tr>",
                            "</table>"
                        ]
                    }
                }
            ],
            "execution_count": 39
        }
    ]
}