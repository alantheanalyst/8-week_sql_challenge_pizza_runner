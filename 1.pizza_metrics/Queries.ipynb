{
    "metadata": {
        "kernelspec": {
            "name": "SQL",
            "display_name": "SQL",
            "language": "sql"
        },
        "language_info": {
            "name": "sql",
            "version": ""
        }
    },
    "nbformat_minor": 2,
    "nbformat": 4,
    "cells": [
        {
            "cell_type": "markdown",
            "source": [
                "**Number of Pizzas Ordered**"
            ],
            "metadata": {
                "language": "sql",
                "azdata_cell_guid": "283228ff-247b-456d-9729-71b16d844e77"
            },
            "attachments": {}
        },
        {
            "cell_type": "code",
            "source": [
                "SELECT COUNT(pizza_id) pizza_count\r\n",
                "FROM customer_orders"
            ],
            "metadata": {
                "azdata_cell_guid": "f54af60d-fc9f-4997-b50a-9b2831d42d46",
                "language": "sql"
            },
            "outputs": [
                {
                    "output_type": "display_data",
                    "data": {
                        "text/html": "(1 row affected)"
                    },
                    "metadata": {}
                },
                {
                    "output_type": "display_data",
                    "data": {
                        "text/html": "Total execution time: 00:00:00.015"
                    },
                    "metadata": {}
                },
                {
                    "output_type": "execute_result",
                    "execution_count": 1,
                    "data": {
                        "application/vnd.dataresource+json": {
                            "schema": {
                                "fields": [
                                    {
                                        "name": "pizza_count"
                                    }
                                ]
                            },
                            "data": [
                                {
                                    "pizza_count": "14"
                                }
                            ]
                        },
                        "text/html": "<table><tr><th>pizza_count</th></tr><tr><td>14</td></tr></table>"
                    },
                    "metadata": {}
                }
            ],
            "execution_count": 1
        },
        {
            "cell_type": "markdown",
            "source": [
                "**Number of Unique Orders**"
            ],
            "metadata": {
                "language": "sql",
                "azdata_cell_guid": "796e7991-d704-41e6-abce-bd214ef1a4e9"
            },
            "attachments": {}
        },
        {
            "cell_type": "code",
            "source": [
                "SELECT COUNT(distinct order_id) order_count\r\n",
                "FROM customer_orders"
            ],
            "metadata": {
                "azdata_cell_guid": "decbee58-11dc-48f6-841a-14da781cada9",
                "language": "sql"
            },
            "outputs": [
                {
                    "output_type": "display_data",
                    "data": {
                        "text/html": "(1 row affected)"
                    },
                    "metadata": {}
                },
                {
                    "output_type": "display_data",
                    "data": {
                        "text/html": "Total execution time: 00:00:00.023"
                    },
                    "metadata": {}
                },
                {
                    "output_type": "execute_result",
                    "execution_count": 2,
                    "data": {
                        "application/vnd.dataresource+json": {
                            "schema": {
                                "fields": [
                                    {
                                        "name": "order_count"
                                    }
                                ]
                            },
                            "data": [
                                {
                                    "order_count": "10"
                                }
                            ]
                        },
                        "text/html": "<table><tr><th>order_count</th></tr><tr><td>10</td></tr></table>"
                    },
                    "metadata": {}
                }
            ],
            "execution_count": 2
        },
        {
            "cell_type": "markdown",
            "source": [
                "**Successful Deliveries**"
            ],
            "metadata": {
                "language": "sql",
                "azdata_cell_guid": "98f4ef33-00c1-4921-a028-3eb44a1a2b9f"
            },
            "attachments": {}
        },
        {
            "cell_type": "code",
            "source": [
                "SELECT runner_id ,count(*) succesful_orders\r\n",
                "FROM runner_orders\r\n",
                "WHERE cancellation is null\r\n",
                "GROUP BY runner_id"
            ],
            "metadata": {
                "azdata_cell_guid": "9fa1b963-a243-4793-80ba-c45663584945",
                "language": "sql",
                "tags": [
                    "hide_input"
                ]
            },
            "outputs": [
                {
                    "output_type": "display_data",
                    "data": {
                        "text/html": "(3 rows affected)"
                    },
                    "metadata": {}
                },
                {
                    "output_type": "display_data",
                    "data": {
                        "text/html": "Total execution time: 00:00:00.032"
                    },
                    "metadata": {}
                },
                {
                    "output_type": "execute_result",
                    "execution_count": 2,
                    "data": {
                        "application/vnd.dataresource+json": {
                            "schema": {
                                "fields": [
                                    {
                                        "name": "runner_id"
                                    },
                                    {
                                        "name": "succesful_orders"
                                    }
                                ]
                            },
                            "data": [
                                {
                                    "runner_id": "1",
                                    "succesful_orders": "4"
                                },
                                {
                                    "runner_id": "2",
                                    "succesful_orders": "3"
                                },
                                {
                                    "runner_id": "3",
                                    "succesful_orders": "1"
                                }
                            ]
                        },
                        "text/html": "<table><tr><th>runner_id</th><th>succesful_orders</th></tr><tr><td>1</td><td>4</td></tr><tr><td>2</td><td>3</td></tr><tr><td>3</td><td>1</td></tr></table>"
                    },
                    "metadata": {}
                }
            ],
            "execution_count": 2
        },
        {
            "cell_type": "markdown",
            "source": [
                "**Number of Vegetarian and Meat Pizzas Delivered**"
            ],
            "metadata": {
                "azdata_cell_guid": "4c1a298d-2c2a-4625-843c-f4134b1ad60c"
            },
            "attachments": {}
        },
        {
            "cell_type": "code",
            "source": [
                "ALTER TABLE pizza_names\r\n",
                "ALTER COLUMN pizza_name varchar(10)"
            ],
            "metadata": {
                "azdata_cell_guid": "87e20bd2-c123-48bc-910f-4b0dd53a6df3",
                "language": "sql"
            },
            "outputs": [],
            "execution_count": null
        },
        {
            "cell_type": "code",
            "source": [
                "SELECT pizza_name, COUNT(c.order_id) pizza_count\r\n",
                "FROM customer_orders c JOIN pizza_names n\r\n",
                "ON c.pizza_id = n.pizza_id JOIN runner_orders r\r\n",
                "ON c.order_id = r.order_id\r\n",
                "WHERE cancellation IS NULL\r\n",
                "GROUP BY pizza_name"
            ],
            "metadata": {
                "language": "sql",
                "azdata_cell_guid": "493c853c-e3fc-44b9-988b-59633b310fba"
            },
            "outputs": [
                {
                    "output_type": "display_data",
                    "data": {
                        "text/html": "(2 rows affected)"
                    },
                    "metadata": {}
                },
                {
                    "output_type": "display_data",
                    "data": {
                        "text/html": "Total execution time: 00:00:00.044"
                    },
                    "metadata": {}
                },
                {
                    "output_type": "execute_result",
                    "execution_count": 3,
                    "data": {
                        "application/vnd.dataresource+json": {
                            "schema": {
                                "fields": [
                                    {
                                        "name": "pizza_name"
                                    },
                                    {
                                        "name": "pizza_count"
                                    }
                                ]
                            },
                            "data": [
                                {
                                    "pizza_name": "Meatlovers",
                                    "pizza_count": "9"
                                },
                                {
                                    "pizza_name": "Vegetarian",
                                    "pizza_count": "3"
                                }
                            ]
                        },
                        "text/html": "<table><tr><th>pizza_name</th><th>pizza_count</th></tr><tr><td>Meatlovers</td><td>9</td></tr><tr><td>Vegetarian</td><td>3</td></tr></table>"
                    },
                    "metadata": {}
                }
            ],
            "execution_count": 3
        },
        {
            "cell_type": "markdown",
            "source": [
                "**Vegetarian and Meat Pizzas Delivered per Customer**"
            ],
            "metadata": {
                "language": "sql",
                "azdata_cell_guid": "1dd493ea-e2f3-4e77-8d25-123b21c57ac8"
            },
            "attachments": {}
        },
        {
            "cell_type": "code",
            "source": [
                "SELECT customer_id, pizza_name, COUNT(order_id) pizza_count\r\n",
                "FROM customer_orders c JOIN pizza_names n ON c.pizza_id = n.pizza_id\r\n",
                "GROUP BY customer_id, pizza_name"
            ],
            "metadata": {
                "language": "sql",
                "azdata_cell_guid": "56506eae-11a6-4a08-b54f-c2d1bf0f78d6"
            },
            "outputs": [
                {
                    "output_type": "display_data",
                    "data": {
                        "text/html": "(8 rows affected)"
                    },
                    "metadata": {}
                },
                {
                    "output_type": "display_data",
                    "data": {
                        "text/html": "Total execution time: 00:00:00.027"
                    },
                    "metadata": {}
                },
                {
                    "output_type": "execute_result",
                    "execution_count": 4,
                    "data": {
                        "application/vnd.dataresource+json": {
                            "schema": {
                                "fields": [
                                    {
                                        "name": "customer_id"
                                    },
                                    {
                                        "name": "pizza_name"
                                    },
                                    {
                                        "name": "pizza_count"
                                    }
                                ]
                            },
                            "data": [
                                {
                                    "customer_id": "101",
                                    "pizza_name": "Meatlovers",
                                    "pizza_count": "2"
                                },
                                {
                                    "customer_id": "102",
                                    "pizza_name": "Meatlovers",
                                    "pizza_count": "2"
                                },
                                {
                                    "customer_id": "103",
                                    "pizza_name": "Meatlovers",
                                    "pizza_count": "3"
                                },
                                {
                                    "customer_id": "104",
                                    "pizza_name": "Meatlovers",
                                    "pizza_count": "3"
                                },
                                {
                                    "customer_id": "101",
                                    "pizza_name": "Vegetarian",
                                    "pizza_count": "1"
                                },
                                {
                                    "customer_id": "102",
                                    "pizza_name": "Vegetarian",
                                    "pizza_count": "1"
                                },
                                {
                                    "customer_id": "103",
                                    "pizza_name": "Vegetarian",
                                    "pizza_count": "1"
                                },
                                {
                                    "customer_id": "105",
                                    "pizza_name": "Vegetarian",
                                    "pizza_count": "1"
                                }
                            ]
                        },
                        "text/html": "<table><tr><th>customer_id</th><th>pizza_name</th><th>pizza_count</th></tr><tr><td>101</td><td>Meatlovers</td><td>2</td></tr><tr><td>102</td><td>Meatlovers</td><td>2</td></tr><tr><td>103</td><td>Meatlovers</td><td>3</td></tr><tr><td>104</td><td>Meatlovers</td><td>3</td></tr><tr><td>101</td><td>Vegetarian</td><td>1</td></tr><tr><td>102</td><td>Vegetarian</td><td>1</td></tr><tr><td>103</td><td>Vegetarian</td><td>1</td></tr><tr><td>105</td><td>Vegetarian</td><td>1</td></tr></table>"
                    },
                    "metadata": {}
                }
            ],
            "execution_count": 4
        },
        {
            "cell_type": "markdown",
            "source": [
                "**Highest Number of Pizzas Delivered in a Single Order**"
            ],
            "metadata": {
                "azdata_cell_guid": "64b1f256-2a09-4e60-bdec-793567308f52"
            },
            "attachments": {}
        },
        {
            "cell_type": "code",
            "source": [
                "SELECT TOP 1 c.order_id, count(c.order_id) pizza_count\r\n",
                "FROM customer_orders c JOIN runner_orders r \r\n",
                "ON c.order_id = r.order_id\r\n",
                "WHERE cancellation IS NULL\r\n",
                "GROUP BY c.order_id\r\n",
                "HAVING COUNT(c.order_id) > 1\r\n",
                "ORDER BY pizza_count DESC"
            ],
            "metadata": {
                "azdata_cell_guid": "e2bb8b31-8907-493f-be52-349267288687",
                "language": "sql"
            },
            "outputs": [
                {
                    "output_type": "display_data",
                    "data": {
                        "text/html": "(1 row affected)"
                    },
                    "metadata": {}
                },
                {
                    "output_type": "display_data",
                    "data": {
                        "text/html": "Total execution time: 00:00:00.056"
                    },
                    "metadata": {}
                },
                {
                    "output_type": "execute_result",
                    "execution_count": 5,
                    "data": {
                        "application/vnd.dataresource+json": {
                            "schema": {
                                "fields": [
                                    {
                                        "name": "order_id"
                                    },
                                    {
                                        "name": "pizza_count"
                                    }
                                ]
                            },
                            "data": [
                                {
                                    "order_id": "4",
                                    "pizza_count": "3"
                                }
                            ]
                        },
                        "text/html": "<table><tr><th>order_id</th><th>pizza_count</th></tr><tr><td>4</td><td>3</td></tr></table>"
                    },
                    "metadata": {}
                }
            ],
            "execution_count": 5
        },
        {
            "cell_type": "markdown",
            "source": [
                "**Changes Made to Pizzas per Customer**"
            ],
            "metadata": {
                "language": "sql",
                "azdata_cell_guid": "3de65a65-1f31-4c36-a0ad-9b9d9512b5cb"
            },
            "attachments": {}
        },
        {
            "cell_type": "code",
            "source": [
                "SELECT customer_id,\r\n",
                "SUM(\r\n",
                "CASE\r\n",
                "\tWHEN extras IS NOT NULL OR exclusions IS NOT NULL then 1\r\n",
                "ELSE 0\r\n",
                "END) 'at least 1 change',\r\n",
                "SUM(\r\n",
                "CASE\r\n",
                "\tWHEN extras IS NULL AND exclusions IS NULL then 1\r\n",
                "ELSE 0\r\n",
                "END) '0 changes'\r\n",
                "FROM customer_orders c JOIN runner_orders r\r\n",
                "ON c.order_id = r.order_id\r\n",
                "WHERE cancellation IS NULL\r\n",
                "GROUP BY customer_id"
            ],
            "metadata": {
                "language": "sql",
                "azdata_cell_guid": "2b609997-4ebe-4709-8487-ca1333c16aee"
            },
            "outputs": [
                {
                    "output_type": "display_data",
                    "data": {
                        "text/html": "(5 rows affected)"
                    },
                    "metadata": {}
                },
                {
                    "output_type": "display_data",
                    "data": {
                        "text/html": "Total execution time: 00:00:00.025"
                    },
                    "metadata": {}
                },
                {
                    "output_type": "execute_result",
                    "execution_count": 8,
                    "data": {
                        "application/vnd.dataresource+json": {
                            "schema": {
                                "fields": [
                                    {
                                        "name": "customer_id"
                                    },
                                    {
                                        "name": "at least 1 change"
                                    },
                                    {
                                        "name": "0 changes"
                                    }
                                ]
                            },
                            "data": [
                                {
                                    "customer_id": "101",
                                    "at least 1 change": "0",
                                    "0 changes": "2"
                                },
                                {
                                    "customer_id": "102",
                                    "at least 1 change": "0",
                                    "0 changes": "3"
                                },
                                {
                                    "customer_id": "103",
                                    "at least 1 change": "3",
                                    "0 changes": "0"
                                },
                                {
                                    "customer_id": "104",
                                    "at least 1 change": "2",
                                    "0 changes": "1"
                                },
                                {
                                    "customer_id": "105",
                                    "at least 1 change": "1",
                                    "0 changes": "0"
                                }
                            ]
                        },
                        "text/html": "<table><tr><th>customer_id</th><th>at least 1 change</th><th>0 changes</th></tr><tr><td>101</td><td>0</td><td>2</td></tr><tr><td>102</td><td>0</td><td>3</td></tr><tr><td>103</td><td>3</td><td>0</td></tr><tr><td>104</td><td>2</td><td>1</td></tr><tr><td>105</td><td>1</td><td>0</td></tr></table>"
                    },
                    "metadata": {}
                }
            ],
            "execution_count": 8
        },
        {
            "cell_type": "markdown",
            "source": [
                "**Pizzas Delivered with Added or Excluded Toppings**"
            ],
            "metadata": {
                "azdata_cell_guid": "205934a5-0d6b-4baa-bd5a-da2b899310b3"
            },
            "attachments": {}
        },
        {
            "cell_type": "code",
            "source": [
                "SELECT COUNT(*) order_count\r\n",
                "FROM customer_orders c JOIN runner_orders r\r\n",
                "ON c.order_id = r.order_id\r\n",
                "WHERE extras IS NOT NULL and exclusions IS NOT NULL and cancellation IS NULL"
            ],
            "metadata": {
                "azdata_cell_guid": "bd530fbf-40bf-4f53-8fea-bcc4e49ffa94",
                "language": "sql"
            },
            "outputs": [
                {
                    "output_type": "display_data",
                    "data": {
                        "text/html": "(1 row affected)"
                    },
                    "metadata": {}
                },
                {
                    "output_type": "display_data",
                    "data": {
                        "text/html": "Total execution time: 00:00:00.024"
                    },
                    "metadata": {}
                },
                {
                    "output_type": "execute_result",
                    "execution_count": 9,
                    "data": {
                        "application/vnd.dataresource+json": {
                            "schema": {
                                "fields": [
                                    {
                                        "name": "order_count"
                                    }
                                ]
                            },
                            "data": [
                                {
                                    "order_count": "1"
                                }
                            ]
                        },
                        "text/html": "<table><tr><th>order_count</th></tr><tr><td>1</td></tr></table>"
                    },
                    "metadata": {}
                }
            ],
            "execution_count": 9
        },
        {
            "cell_type": "markdown",
            "source": [
                "**Orders per Hour**"
            ],
            "metadata": {
                "language": "sql",
                "azdata_cell_guid": "41285a01-607f-4798-86c4-9f206267480a"
            },
            "attachments": {}
        },
        {
            "cell_type": "code",
            "source": [
                "SELECT count(*) as order_count, datepart(hour,  order_time) as hour\r\n",
                "FROM customer_orders\r\n",
                "group by datepart(hour,  order_time)\r\n",
                "order by hour"
            ],
            "metadata": {
                "language": "sql",
                "azdata_cell_guid": "7617e3ef-b42d-48a3-97e7-0e229d7693dc"
            },
            "outputs": [
                {
                    "output_type": "display_data",
                    "data": {
                        "text/html": "(6 rows affected)"
                    },
                    "metadata": {}
                },
                {
                    "output_type": "display_data",
                    "data": {
                        "text/html": "Total execution time: 00:00:00.013"
                    },
                    "metadata": {}
                },
                {
                    "output_type": "execute_result",
                    "execution_count": 20,
                    "data": {
                        "application/vnd.dataresource+json": {
                            "schema": {
                                "fields": [
                                    {
                                        "name": "order_count"
                                    },
                                    {
                                        "name": "hour"
                                    }
                                ]
                            },
                            "data": [
                                {
                                    "order_count": "1",
                                    "hour": "11"
                                },
                                {
                                    "order_count": "3",
                                    "hour": "13"
                                },
                                {
                                    "order_count": "3",
                                    "hour": "18"
                                },
                                {
                                    "order_count": "1",
                                    "hour": "19"
                                },
                                {
                                    "order_count": "3",
                                    "hour": "21"
                                },
                                {
                                    "order_count": "3",
                                    "hour": "23"
                                }
                            ]
                        },
                        "text/html": "<table><tr><th>order_count</th><th>hour</th></tr><tr><td>1</td><td>11</td></tr><tr><td>3</td><td>13</td></tr><tr><td>3</td><td>18</td></tr><tr><td>1</td><td>19</td></tr><tr><td>3</td><td>21</td></tr><tr><td>3</td><td>23</td></tr></table>"
                    },
                    "metadata": {}
                }
            ],
            "execution_count": 20
        },
        {
            "cell_type": "markdown",
            "source": [
                "**Orders per Day**"
            ],
            "metadata": {
                "language": "sql",
                "azdata_cell_guid": "f98222a6-f0e0-431e-9340-9b2e5936a8e0"
            },
            "attachments": {}
        },
        {
            "cell_type": "code",
            "source": [
                "SELECT FORMAT(DATEADD(DAY, 2, order_time), 'dddd') day_of_week, COUNT(*) order_count\r\n",
                "FROM customer_orders\r\n",
                "GROUP BY FORMAT(DATEADD(DAY, 2, order_time), 'dddd')\r\n",
                "ORDER BY day_of_week DESC"
            ],
            "metadata": {
                "language": "sql",
                "azdata_cell_guid": "9e0ad4e0-be6a-4929-b6eb-8dec42ae0283"
            },
            "outputs": [
                {
                    "output_type": "display_data",
                    "data": {
                        "text/html": "(4 rows affected)"
                    },
                    "metadata": {}
                },
                {
                    "output_type": "display_data",
                    "data": {
                        "text/html": "Total execution time: 00:00:00.114"
                    },
                    "metadata": {}
                },
                {
                    "output_type": "execute_result",
                    "execution_count": 21,
                    "data": {
                        "application/vnd.dataresource+json": {
                            "schema": {
                                "fields": [
                                    {
                                        "name": "day_of_week"
                                    },
                                    {
                                        "name": "order_count"
                                    }
                                ]
                            },
                            "data": [
                                {
                                    "day_of_week": "Sunday",
                                    "order_count": "1"
                                },
                                {
                                    "day_of_week": "Saturday",
                                    "order_count": "3"
                                },
                                {
                                    "day_of_week": "Monday",
                                    "order_count": "5"
                                },
                                {
                                    "day_of_week": "Friday",
                                    "order_count": "5"
                                }
                            ]
                        },
                        "text/html": "<table><tr><th>day_of_week</th><th>order_count</th></tr><tr><td>Sunday</td><td>1</td></tr><tr><td>Saturday</td><td>3</td></tr><tr><td>Monday</td><td>5</td></tr><tr><td>Friday</td><td>5</td></tr></table>"
                    },
                    "metadata": {}
                }
            ],
            "execution_count": 21
        }
    ]
}